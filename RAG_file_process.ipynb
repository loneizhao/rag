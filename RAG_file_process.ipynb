{
 "cells": [
  {
   "cell_type": "code",
   "execution_count": null,
   "id": "1043f243-027d-4e84-a363-8268f3329cba",
   "metadata": {
    "tags": []
   },
   "outputs": [],
   "source": [
    "!pip install bs4\n",
    "!pip install html2text"
   ]
  },
  {
   "cell_type": "code",
   "execution_count": null,
   "id": "b85739f5-5738-4cde-89a9-e2bb2dc06d56",
   "metadata": {
    "tags": []
   },
   "outputs": [],
   "source": [
    "#用如下code将HTML文件中的图片替换成cloudfront链接：\n",
    "import os\n",
    "import re\n",
    "from bs4 import BeautifulSoup\n",
    "import html2text\n",
    "\n",
    "# Path to the HTML document\n",
    "doc_path = '/home/ec2-user/SageMaker/课后常见问题及解决方案 20.03.03.html'\n",
    "\n",
    "# CloudFront path for image hosting\n",
    "cloudfront_path = 'https://xxx.cloudfront.net/kehou/'\n",
    "\n",
    "# Open the HTML file\n",
    "with open(doc_path, 'r') as file:\n",
    "    html_content = file.read()\n",
    "\n",
    "# Parse the HTML content\n",
    "soup = BeautifulSoup(html_content, 'html.parser')\n",
    "\n",
    "# Find all <img> tags\n",
    "img_tags = soup.find_all('img')\n",
    "\n",
    "# Iterate over each <img> tag\n",
    "for img_tag in img_tags:\n",
    "    # Get the 'src' attribute value\n",
    "    src = img_tag['src']\n",
    "    print(src)\n",
    "\n",
    "    # Extract the image file name\n",
    "    image_id = re.search(r'([^/]+\\.\\w+)$', src).group(1)\n",
    "\n",
    "    # Replace the image source with the provided format\n",
    "    new_src = f'{cloudfront_path}{image_id}'\n",
    "    print(new_src)\n",
    "    img_tag['src'] = new_src\n",
    "\n",
    "# Convert the modified HTML back to a string\n",
    "modified_html = str(soup)\n",
    "\n",
    "# Save the modified HTML to a new file\n",
    "output_html_path = os.path.join(os.path.dirname(doc_path), 'output.html')\n",
    "with open(output_html_path, 'w', encoding='utf-8') as file:\n",
    "    file.write(modified_html)\n",
    "\n",
    "# Convert the modified HTML to Markdown\n",
    "def convert_html_to_md(html_file, md_file):\n",
    "    \"\"\"\n",
    "    Converts an HTML file to Markdown format.\n",
    "\n",
    "    Args:\n",
    "        html_file (str): Path to the HTML file.\n",
    "        md_file (str): Path to the output Markdown file.\n",
    "    \"\"\"\n",
    "    with open(html_file, 'r', encoding='utf-8') as f:\n",
    "        html_content = f.read()\n",
    "\n",
    "    converter = html2text.HTML2Text()\n",
    "    converter.body_width = 0  # No line wrapping\n",
    "    markdown_content = converter.handle(html_content)\n",
    "\n",
    "    with open(md_file, 'w', encoding='utf-8') as f:\n",
    "        f.write(markdown_content)\n",
    "\n",
    "    print(f\"Conversion successful! Markdown file saved as {md_file}\")\n",
    "\n",
    "# Convert the modified HTML to Markdown\n",
    "output_md_path = os.path.join(os.path.dirname(doc_path), 'output.md')\n",
    "convert_html_to_md(output_html_path, output_md_path)"
   ]
  },
  {
   "cell_type": "code",
   "execution_count": null,
   "id": "0c843863-7ddd-4ed6-a3ac-38a6467e43c9",
   "metadata": {},
   "outputs": [],
   "source": []
  }
 ],
 "metadata": {
  "kernelspec": {
   "display_name": "conda_pytorch_p310",
   "language": "python",
   "name": "conda_pytorch_p310"
  },
  "language_info": {
   "codemirror_mode": {
    "name": "ipython",
    "version": 3
   },
   "file_extension": ".py",
   "mimetype": "text/x-python",
   "name": "python",
   "nbconvert_exporter": "python",
   "pygments_lexer": "ipython3",
   "version": "3.10.13"
  }
 },
 "nbformat": 4,
 "nbformat_minor": 5
}
